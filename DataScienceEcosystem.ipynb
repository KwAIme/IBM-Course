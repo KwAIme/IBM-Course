{
 "cells": [
  {
   "cell_type": "markdown",
   "id": "b919875e-36e5-4dec-9804-929c9e8312ca",
   "metadata": {},
   "source": [
    "# Data Science Tools and Ecosystem"
   ]
  },
  {
   "cell_type": "markdown",
   "id": "f9ce5436-0710-4da1-9f19-0078902eb8cf",
   "metadata": {},
   "source": [
    "###### In this notebook, Data Science Tools and Ecosystem are summarized."
   ]
  },
  {
   "cell_type": "markdown",
   "id": "8d363690-3b9e-40ee-8b4d-4bdbc3ceb5c5",
   "metadata": {},
   "source": [
    "Some of the popular languages that Data Scientists use are:"
   ]
  },
  {
   "cell_type": "markdown",
   "id": "ff34515b-0a6e-49a8-8836-72ef01ec5957",
   "metadata": {},
   "source": [
    "___Objectives:___\n",
    "\n",
    "- popular languages that Data Scientists use\n",
    "- commonly used libraries used by Data Scientists\n",
    "- examples of evaluating arithmetic expressions in Python"
   ]
  },
  {
   "cell_type": "markdown",
   "id": "702b0ace-4a4f-48d4-9a9e-fae22d0796eb",
   "metadata": {},
   "source": [
    "1. Python\n",
    "2. C++\n",
    "3. C\n"
   ]
  },
  {
   "cell_type": "markdown",
   "id": "f231b47b-8336-4016-8db8-1266de317408",
   "metadata": {},
   "source": [
    "##### Some of the commonly used libraries used by Data Scientists include:"
   ]
  },
  {
   "cell_type": "markdown",
   "id": "d0a79db9-0409-48a9-bef0-c3e96aef9d35",
   "metadata": {},
   "source": [
    "1. Pandas\n",
    "2. Numpy\n",
    "3. Scikit-learn \n"
   ]
  },
  {
   "cell_type": "markdown",
   "id": "31acefd8-6c96-431a-9e9b-273927edcdda",
   "metadata": {},
   "source": [
    "|Data Science Tools|\n",
    "|------------------|\n",
    "|JupyterLab| \n",
    "|RStudio|\n",
    "|VS Code|"
   ]
  },
  {
   "cell_type": "markdown",
   "id": "1ac4abb3-e592-4b0b-a07a-e2fc681048cc",
   "metadata": {},
   "source": [
    "### Below are a few examples of evaluating arithmetic expressions in Python"
   ]
  },
  {
   "cell_type": "code",
   "execution_count": 3,
   "id": "62648c04-0e05-4034-84ec-97150637d2b3",
   "metadata": {},
   "outputs": [
    {
     "data": {
      "text/plain": [
       "17"
      ]
     },
     "execution_count": 3,
     "metadata": {},
     "output_type": "execute_result"
    }
   ],
   "source": [
    "# This a simple arithmetic expression to mutiply then add integer\n",
    "(3*4)+5"
   ]
  },
  {
   "cell_type": "code",
   "execution_count": 4,
   "id": "f5ba4e67-9b67-4442-b990-2b54c4fac522",
   "metadata": {},
   "outputs": [
    {
     "data": {
      "text/plain": [
       "3.3333333333333335"
      ]
     },
     "execution_count": 4,
     "metadata": {},
     "output_type": "execute_result"
    }
   ],
   "source": [
    "# This will convert 200 minutes to hours by diving by 60\n",
    "200 /60"
   ]
  },
  {
   "cell_type": "markdown",
   "id": "3279405d-7b54-4248-846c-79ef3fdb7530",
   "metadata": {},
   "source": [
    "## Author\n",
    "Kwame "
   ]
  }
 ],
 "metadata": {
  "kernelspec": {
   "display_name": "Python 3 (ipykernel)",
   "language": "python",
   "name": "python3"
  },
  "language_info": {
   "codemirror_mode": {
    "name": "ipython",
    "version": 3
   },
   "file_extension": ".py",
   "mimetype": "text/x-python",
   "name": "python",
   "nbconvert_exporter": "python",
   "pygments_lexer": "ipython3",
   "version": "3.12.8"
  }
 },
 "nbformat": 4,
 "nbformat_minor": 5
}
